{
 "cells": [
  {
   "cell_type": "code",
   "execution_count": 1,
   "metadata": {},
   "outputs": [
    {
     "name": "stderr",
     "output_type": "stream",
     "text": [
      "Using TensorFlow backend.\n"
     ]
    }
   ],
   "source": [
    "import train"
   ]
  },
  {
   "cell_type": "code",
   "execution_count": 2,
   "metadata": {},
   "outputs": [],
   "source": [
    "# Construckt oject of Class Yolo\n",
    "# define path of train.txt, classes and anchors\n",
    "yolov3=train.yolodeep(256,'train.txt','model_data/voc_classes.txt','model_data/yolo_anchors.txt')"
   ]
  },
  {
   "cell_type": "code",
   "execution_count": 3,
   "metadata": {
    "collapsed": true
   },
   "outputs": [
    {
     "name": "stdout",
     "output_type": "stream",
     "text": [
      "WARNING:tensorflow:From /usr/local/lib/python3.5/dist-packages/tensorflow/python/framework/op_def_library.py:263: colocate_with (from tensorflow.python.framework.ops) is deprecated and will be removed in a future version.\n",
      "Instructions for updating:\n",
      "Colocations handled automatically by placer.\n",
      "Create YOLOv3 model with 9 anchors and 4 classes.\n",
      "Load weights model_data/yolo_weights.h5.\n",
      "Freeze the first 249 layers of total 252 layers.\n"
     ]
    }
   ],
   "source": [
    "# Do predefining steps\n",
    "yolov3.initialize()\n",
    "yolov3.defineCallbacks()\n",
    "yolov3.splitData()\n"
   ]
  },
  {
   "cell_type": "code",
   "execution_count": null,
   "metadata": {
    "collapsed": true
   },
   "outputs": [
    {
     "name": "stdout",
     "output_type": "stream",
     "text": [
      "Train on 89955 samples, val on 9994 samples, with batch size 8.\n",
      "Epoch 1/5\n",
      "11244/11244 [==============================] - 7523s 669ms/step - loss: 123.1661 - val_loss: nan\n",
      "Epoch 2/5\n",
      " 7969/11244 [====================>.........] - ETA: 28:15 - loss: 61.2526"
     ]
    }
   ],
   "source": [
    "# Train on own dataseit\n",
    "yolov3.learn(8,5)"
   ]
  },
  {
   "cell_type": "code",
   "execution_count": null,
   "metadata": {
    "collapsed": true
   },
   "outputs": [],
   "source": [
    "# Detect Features in Image \n",
    "from yolo import YOLO, detect_image\n",
    "from PIL import Image\n",
    "%matplotlib inline\n",
    "def detect_img(yolo,img):\n",
    "    \"\"\"\n",
    "    try:\n",
    "        image = Image.open(img)\n",
    "    except:\n",
    "        print('Open Error! Try again!')\n",
    "        continue\n",
    "    else:\n",
    "    \"\"\"\n",
    "    r_image = yolo.detect_image(img)\n",
    "    r_image.show()"
   ]
  },
  {
   "cell_type": "code",
   "execution_count": null,
   "metadata": {
    "collapsed": true
   },
   "outputs": [],
   "source": []
  }
 ],
 "metadata": {
  "kernelspec": {
   "display_name": "Python 3",
   "language": "python",
   "name": "python3"
  },
  "language_info": {
   "codemirror_mode": {
    "name": "ipython",
    "version": 3
   },
   "file_extension": ".py",
   "mimetype": "text/x-python",
   "name": "python",
   "nbconvert_exporter": "python",
   "pygments_lexer": "ipython3",
   "version": "3.5.2"
  }
 },
 "nbformat": 4,
 "nbformat_minor": 2
}
